{
 "cells": [
  {
   "cell_type": "code",
   "execution_count": 1,
   "id": "15ff7dcf",
   "metadata": {
    "ExecuteTime": {
     "end_time": "2021-07-11T08:58:00.038734Z",
     "start_time": "2021-07-11T08:57:59.205635Z"
    }
   },
   "outputs": [],
   "source": [
    "import pandas as pd\n",
    "import numpy as np\n",
    "import datetime\n",
    "import time\n",
    "import matplotlib.pyplot as plt\n",
    "import seaborn as sns\n",
    "sns.set_style('whitegrid')\n",
    "\n",
    "np.warnings.filterwarnings('ignore')"
   ]
  },
  {
   "cell_type": "markdown",
   "id": "66762d18",
   "metadata": {},
   "source": [
    "# 데이터 준비\n",
    "- 컬럼삭제 및 널값제거"
   ]
  },
  {
   "cell_type": "code",
   "execution_count": 2,
   "id": "17dd7886",
   "metadata": {
    "ExecuteTime": {
     "end_time": "2021-07-11T08:58:00.992057Z",
     "start_time": "2021-07-11T08:58:00.951022Z"
    }
   },
   "outputs": [],
   "source": [
    "df = pd.read_csv('use_df.csv')"
   ]
  },
  {
   "cell_type": "code",
   "execution_count": 3,
   "id": "04f4c8f7",
   "metadata": {
    "ExecuteTime": {
     "end_time": "2021-07-11T08:58:02.032204Z",
     "start_time": "2021-07-11T08:58:02.019567Z"
    }
   },
   "outputs": [
    {
     "data": {
      "text/plain": [
       "Index(['Unnamed: 0', 'Title', 'Series or Movie', 'COUNTRY', 'Release Date',\n",
       "       'GENRE', 'VALUE', 'Genre_all', 'Tags', 'Languages', 'Hidden Gem Score',\n",
       "       'Country Availability', 'Runtime', 'Director', 'Writer', 'Actors',\n",
       "       'View Rating', 'IMDb Score', 'Rotten Tomatoes Score',\n",
       "       'Metacritic Score', 'Awards Received', 'Awards Nominated For',\n",
       "       'Boxoffice', 'Netflix Release Date', 'Production House', 'Summary',\n",
       "       'IMDb Votes'],\n",
       "      dtype='object')"
      ]
     },
     "execution_count": 3,
     "metadata": {},
     "output_type": "execute_result"
    }
   ],
   "source": [
    "df.columns"
   ]
  },
  {
   "cell_type": "code",
   "execution_count": 4,
   "id": "247d92cd",
   "metadata": {
    "ExecuteTime": {
     "end_time": "2021-07-11T08:58:03.326164Z",
     "start_time": "2021-07-11T08:58:03.310207Z"
    }
   },
   "outputs": [
    {
     "data": {
      "text/html": [
       "<div>\n",
       "<style scoped>\n",
       "    .dataframe tbody tr th:only-of-type {\n",
       "        vertical-align: middle;\n",
       "    }\n",
       "\n",
       "    .dataframe tbody tr th {\n",
       "        vertical-align: top;\n",
       "    }\n",
       "\n",
       "    .dataframe thead th {\n",
       "        text-align: right;\n",
       "    }\n",
       "</style>\n",
       "<table border=\"1\" class=\"dataframe\">\n",
       "  <thead>\n",
       "    <tr style=\"text-align: right;\">\n",
       "      <th></th>\n",
       "      <th>Title</th>\n",
       "      <th>Series or Movie</th>\n",
       "      <th>Release Date</th>\n",
       "      <th>GENRE</th>\n",
       "      <th>VALUE</th>\n",
       "      <th>Awards Received</th>\n",
       "      <th>Netflix Release Date</th>\n",
       "    </tr>\n",
       "  </thead>\n",
       "  <tbody>\n",
       "    <tr>\n",
       "      <th>0</th>\n",
       "      <td>thequeensgambit</td>\n",
       "      <td>TV</td>\n",
       "      <td>2020.10.23</td>\n",
       "      <td>Drama</td>\n",
       "      <td>44867</td>\n",
       "      <td>96.0</td>\n",
       "      <td>2020.10.23</td>\n",
       "    </tr>\n",
       "  </tbody>\n",
       "</table>\n",
       "</div>"
      ],
      "text/plain": [
       "             Title Series or Movie Release Date  GENRE  VALUE  \\\n",
       "0  thequeensgambit              TV   2020.10.23  Drama  44867   \n",
       "\n",
       "   Awards Received Netflix Release Date  \n",
       "0             96.0           2020.10.23  "
      ]
     },
     "execution_count": 4,
     "metadata": {},
     "output_type": "execute_result"
    }
   ],
   "source": [
    "df.drop(columns=['Genre_all','IMDb Votes','Metacritic Score','Rotten Tomatoes Score','View Rating','COUNTRY','Country Availability','Unnamed: 0','Tags','Actors','Languages','Director','Writer','Boxoffice','Production House','Summary','Awards Nominated For','Runtime','IMDb Score','Hidden Gem Score'],axis=1,inplace=True)\n",
    "df.head(1)"
   ]
  },
  {
   "cell_type": "code",
   "execution_count": 5,
   "id": "8df69112",
   "metadata": {
    "ExecuteTime": {
     "end_time": "2021-07-11T08:58:04.822218Z",
     "start_time": "2021-07-11T08:58:04.807259Z"
    }
   },
   "outputs": [],
   "source": [
    "df.columns=(['Title', 'Type', 'Made_date', 'Genre', 'Value','Awards_Received','Netflix_date'])"
   ]
  },
  {
   "cell_type": "code",
   "execution_count": 6,
   "id": "8f94866b",
   "metadata": {
    "ExecuteTime": {
     "end_time": "2021-07-11T08:58:05.530122Z",
     "start_time": "2021-07-11T08:58:05.519187Z"
    }
   },
   "outputs": [
    {
     "data": {
      "text/plain": [
       "Title                 0\n",
       "Type                  0\n",
       "Made_date            65\n",
       "Genre               370\n",
       "Value                 0\n",
       "Awards_Received    1490\n",
       "Netflix_date          0\n",
       "dtype: int64"
      ]
     },
     "execution_count": 6,
     "metadata": {},
     "output_type": "execute_result"
    }
   ],
   "source": [
    "df.isnull().sum()"
   ]
  },
  {
   "cell_type": "code",
   "execution_count": 7,
   "id": "f8bc11e0",
   "metadata": {
    "ExecuteTime": {
     "end_time": "2021-07-11T08:58:07.428595Z",
     "start_time": "2021-07-11T08:58:07.415629Z"
    }
   },
   "outputs": [],
   "source": [
    "# 장르 부분은 나중에 필요시 널값 제거\n",
    "#Release Date 컬럼 널값 행 제거\n",
    "df.dropna(subset=['Made_date'], inplace=True)\n",
    "# Awards_Received 컬럼 널값 0으로 수정\n",
    "df.Awards_Received.fillna('0',inplace=True)"
   ]
  },
  {
   "cell_type": "code",
   "execution_count": 8,
   "id": "d81b9e9a",
   "metadata": {
    "ExecuteTime": {
     "end_time": "2021-07-11T08:58:08.001984Z",
     "start_time": "2021-07-11T08:58:07.983034Z"
    }
   },
   "outputs": [
    {
     "data": {
      "text/plain": [
       "(Title                0\n",
       " Type                 0\n",
       " Made_date            0\n",
       " Genre              315\n",
       " Value                0\n",
       " Awards_Received      0\n",
       " Netflix_date         0\n",
       " dtype: int64,\n",
       " (2895, 7))"
      ]
     },
     "execution_count": 8,
     "metadata": {},
     "output_type": "execute_result"
    }
   ],
   "source": [
    "df.isnull().sum(), df.shape"
   ]
  },
  {
   "cell_type": "code",
   "execution_count": 9,
   "id": "37834e53",
   "metadata": {
    "ExecuteTime": {
     "end_time": "2021-07-11T08:58:09.708177Z",
     "start_time": "2021-07-11T08:58:09.695203Z"
    }
   },
   "outputs": [],
   "source": [
    "netflix = df.copy()"
   ]
  },
  {
   "cell_type": "code",
   "execution_count": 10,
   "id": "9c2a0f4b",
   "metadata": {
    "ExecuteTime": {
     "end_time": "2021-07-11T08:58:10.277551Z",
     "start_time": "2021-07-11T08:58:10.262589Z"
    }
   },
   "outputs": [
    {
     "data": {
      "text/plain": [
       "0"
      ]
     },
     "execution_count": 10,
     "metadata": {},
     "output_type": "execute_result"
    }
   ],
   "source": [
    "netflix.duplicated().sum()\n",
    "# 중복값 있으면 밑의 코드로 중복값 제거\n",
    "# netflix_df = netflix.drop_duplicates(keep=False, inplace=False)"
   ]
  },
  {
   "cell_type": "markdown",
   "id": "2e9c43fe",
   "metadata": {},
   "source": [
    "## 데이터 준비 - Netflix_date 인코딩\n",
    "- Year, Month, Day와 요일로 새로운 컬럼 확장"
   ]
  },
  {
   "cell_type": "code",
   "execution_count": 11,
   "id": "1c8fa846",
   "metadata": {
    "ExecuteTime": {
     "end_time": "2021-07-11T08:58:11.827565Z",
     "start_time": "2021-07-11T08:58:11.807639Z"
    }
   },
   "outputs": [
    {
     "data": {
      "text/html": [
       "<div>\n",
       "<style scoped>\n",
       "    .dataframe tbody tr th:only-of-type {\n",
       "        vertical-align: middle;\n",
       "    }\n",
       "\n",
       "    .dataframe tbody tr th {\n",
       "        vertical-align: top;\n",
       "    }\n",
       "\n",
       "    .dataframe thead th {\n",
       "        text-align: right;\n",
       "    }\n",
       "</style>\n",
       "<table border=\"1\" class=\"dataframe\">\n",
       "  <thead>\n",
       "    <tr style=\"text-align: right;\">\n",
       "      <th></th>\n",
       "      <th>Title</th>\n",
       "      <th>Type</th>\n",
       "      <th>Made_date</th>\n",
       "      <th>Genre</th>\n",
       "      <th>Value</th>\n",
       "      <th>Awards_Received</th>\n",
       "      <th>Netflix_date</th>\n",
       "      <th>Year</th>\n",
       "      <th>Month</th>\n",
       "      <th>Day</th>\n",
       "    </tr>\n",
       "  </thead>\n",
       "  <tbody>\n",
       "    <tr>\n",
       "      <th>0</th>\n",
       "      <td>thequeensgambit</td>\n",
       "      <td>TV</td>\n",
       "      <td>2020.10.23</td>\n",
       "      <td>Drama</td>\n",
       "      <td>44867</td>\n",
       "      <td>96.0</td>\n",
       "      <td>2020-10-23</td>\n",
       "      <td>2020</td>\n",
       "      <td>10</td>\n",
       "      <td>23</td>\n",
       "    </tr>\n",
       "  </tbody>\n",
       "</table>\n",
       "</div>"
      ],
      "text/plain": [
       "             Title Type   Made_date  Genre  Value Awards_Received  \\\n",
       "0  thequeensgambit   TV  2020.10.23  Drama  44867            96.0   \n",
       "\n",
       "  Netflix_date  Year  Month  Day  \n",
       "0   2020-10-23  2020     10   23  "
      ]
     },
     "execution_count": 11,
     "metadata": {},
     "output_type": "execute_result"
    }
   ],
   "source": [
    "netflix[\"Netflix_date\"] = pd.to_datetime(netflix['Netflix_date'])\n",
    "netflix['Year'] = netflix['Netflix_date'].dt.year\n",
    "netflix['Month'] = netflix['Netflix_date'].dt.month\n",
    "netflix['Day'] = netflix['Netflix_date'].dt.day\n",
    "\n",
    "netflix.head(1)"
   ]
  },
  {
   "cell_type": "markdown",
   "id": "cb484498",
   "metadata": {},
   "source": [
    "# 정규화"
   ]
  },
  {
   "cell_type": "markdown",
   "id": "821b9b7b",
   "metadata": {},
   "source": [
    "# 표준화"
   ]
  },
  {
   "cell_type": "markdown",
   "id": "4b3b8097",
   "metadata": {},
   "source": [
    "# 시각화\n",
    "- made_Date와 Netflix_Date 를 통해 만든 새로운 컬럼으로 \n",
    "- 뷰어수와 넷플릭스 릴리즈 데이트 대한 상관관계"
   ]
  },
  {
   "cell_type": "code",
   "execution_count": 12,
   "id": "2d54e170",
   "metadata": {
    "ExecuteTime": {
     "end_time": "2021-07-11T08:58:16.931478Z",
     "start_time": "2021-07-11T08:58:16.847191Z"
    }
   },
   "outputs": [
    {
     "data": {
      "image/png": "[encoded data removed]",
      "text/plain": [
       "<Figure size 720x360 with 1 Axes>"
      ]
     },
     "metadata": {},
     "output_type": "display_data"
    }
   ],
   "source": [
    "plt.figure(figsize=(10,5))\n",
    "plt.title('The percentage of movies and series in Netflix content')\n",
    "g = plt.pie(netflix.Type.value_counts(),explode=(0.025,0.025),\n",
    "            labels=df.Type.value_counts().index, colors=['red','grey'],\n",
    "            autopct='%1.1f%%', startangle=200)\n",
    "plt.show()"
   ]
  },
  {
   "cell_type": "markdown",
   "id": "ce64b3ae",
   "metadata": {},
   "source": [
    "### 가설\n",
    "- 귀무가설 : Netflix Release date 는 viewpoint에 영향이 있다\n",
    "- 대립가설 : Netflix Release date 는 viewpoint에 영향이 없다"
   ]
  },
  {
   "cell_type": "code",
   "execution_count": 49,
   "id": "990be3ea",
   "metadata": {
    "ExecuteTime": {
     "end_time": "2021-07-11T09:14:03.852850Z",
     "start_time": "2021-07-11T09:14:03.836915Z"
    }
   },
   "outputs": [],
   "source": [
    "# 무비, 시리즈 분리\n",
    "Movie_df = netflix[netflix['Type']=='Movie']\n",
    "Series_df = netflix[netflix['Type']=='TV']"
   ]
  },
  {
   "cell_type": "code",
   "execution_count": 50,
   "id": "cbb2a9bd",
   "metadata": {
    "ExecuteTime": {
     "end_time": "2021-07-11T09:14:05.265194Z",
     "start_time": "2021-07-11T09:14:05.253247Z"
    },
    "scrolled": false
   },
   "outputs": [
    {
     "data": {
      "text/html": [
       "<div>\n",
       "<style scoped>\n",
       "    .dataframe tbody tr th:only-of-type {\n",
       "        vertical-align: middle;\n",
       "    }\n",
       "\n",
       "    .dataframe tbody tr th {\n",
       "        vertical-align: top;\n",
       "    }\n",
       "\n",
       "    .dataframe thead th {\n",
       "        text-align: right;\n",
       "    }\n",
       "</style>\n",
       "<table border=\"1\" class=\"dataframe\">\n",
       "  <thead>\n",
       "    <tr style=\"text-align: right;\">\n",
       "      <th></th>\n",
       "      <th>Title</th>\n",
       "      <th>Type</th>\n",
       "      <th>Made_date</th>\n",
       "      <th>Genre</th>\n",
       "      <th>Value</th>\n",
       "      <th>Awards_Received</th>\n",
       "      <th>Netflix_date</th>\n",
       "      <th>Year</th>\n",
       "      <th>Month</th>\n",
       "      <th>Day</th>\n",
       "    </tr>\n",
       "  </thead>\n",
       "  <tbody>\n",
       "    <tr>\n",
       "      <th>1</th>\n",
       "      <td>365days</td>\n",
       "      <td>Movie</td>\n",
       "      <td>2020.6.7</td>\n",
       "      <td>Romance</td>\n",
       "      <td>42149</td>\n",
       "      <td>0</td>\n",
       "      <td>2020-04-02</td>\n",
       "      <td>2020</td>\n",
       "      <td>4</td>\n",
       "      <td>2</td>\n",
       "    </tr>\n",
       "  </tbody>\n",
       "</table>\n",
       "</div>"
      ],
      "text/plain": [
       "     Title   Type Made_date    Genre  Value Awards_Received Netflix_date  \\\n",
       "1  365days  Movie  2020.6.7  Romance  42149               0   2020-04-02   \n",
       "\n",
       "   Year  Month  Day  \n",
       "1  2020      4    2  "
      ]
     },
     "execution_count": 50,
     "metadata": {},
     "output_type": "execute_result"
    }
   ],
   "source": [
    "Movie_df.head(1)"
   ]
  },
  {
   "cell_type": "code",
   "execution_count": 51,
   "id": "b5b1bbf9",
   "metadata": {
    "ExecuteTime": {
     "end_time": "2021-07-11T09:14:06.343284Z",
     "start_time": "2021-07-11T09:14:06.329430Z"
    }
   },
   "outputs": [
    {
     "data": {
      "text/html": [
       "<div>\n",
       "<style scoped>\n",
       "    .dataframe tbody tr th:only-of-type {\n",
       "        vertical-align: middle;\n",
       "    }\n",
       "\n",
       "    .dataframe tbody tr th {\n",
       "        vertical-align: top;\n",
       "    }\n",
       "\n",
       "    .dataframe thead th {\n",
       "        text-align: right;\n",
       "    }\n",
       "</style>\n",
       "<table border=\"1\" class=\"dataframe\">\n",
       "  <thead>\n",
       "    <tr style=\"text-align: right;\">\n",
       "      <th></th>\n",
       "      <th>Title</th>\n",
       "      <th>Type</th>\n",
       "      <th>Made_date</th>\n",
       "      <th>Genre</th>\n",
       "      <th>Value</th>\n",
       "      <th>Awards_Received</th>\n",
       "      <th>Netflix_date</th>\n",
       "      <th>Year</th>\n",
       "      <th>Month</th>\n",
       "      <th>Day</th>\n",
       "    </tr>\n",
       "  </thead>\n",
       "  <tbody>\n",
       "    <tr>\n",
       "      <th>0</th>\n",
       "      <td>thequeensgambit</td>\n",
       "      <td>TV</td>\n",
       "      <td>2020.10.23</td>\n",
       "      <td>Drama</td>\n",
       "      <td>44867</td>\n",
       "      <td>96.0</td>\n",
       "      <td>2020-10-23</td>\n",
       "      <td>2020</td>\n",
       "      <td>10</td>\n",
       "      <td>23</td>\n",
       "    </tr>\n",
       "  </tbody>\n",
       "</table>\n",
       "</div>"
      ],
      "text/plain": [
       "             Title Type   Made_date  Genre  Value Awards_Received  \\\n",
       "0  thequeensgambit   TV  2020.10.23  Drama  44867            96.0   \n",
       "\n",
       "  Netflix_date  Year  Month  Day  \n",
       "0   2020-10-23  2020     10   23  "
      ]
     },
     "execution_count": 51,
     "metadata": {},
     "output_type": "execute_result"
    }
   ],
   "source": [
    "Series_df.head(1)"
   ]
  },
  {
   "cell_type": "markdown",
   "id": "c2419732",
   "metadata": {
    "ExecuteTime": {
     "end_time": "2021-07-10T11:35:21.979361Z",
     "start_time": "2021-07-10T11:35:21.961424Z"
    }
   },
   "source": [
    "#### 컨텐츠 추가 시기확인"
   ]
  },
  {
   "cell_type": "code",
   "execution_count": 55,
   "id": "b626a81a",
   "metadata": {
    "ExecuteTime": {
     "end_time": "2021-07-11T09:17:28.730225Z",
     "start_time": "2021-07-11T09:17:28.045356Z"
    }
   },
   "outputs": [
    {
     "data": {
      "image/png": "[encoded data removed]",
      "text/plain": [
       "<Figure size 1440x432 with 3 Axes>"
      ]
     },
     "metadata": {},
     "output_type": "display_data"
    }
   ],
   "source": [
    "fig, ax = plt.subplots(1,3, figsize=(20,6))\n",
    "# 컨텐츠 추가 년,월,일별 통계\n",
    "# Year\n",
    "sns.countplot('Year', data=netflix, palette='vlag', ax=ax[0])\n",
    "ax[0].set_title('Year added movie',\n",
    "            fontdict={'fontsize':15})\n",
    "\n",
    "# Month\n",
    "sns.countplot('Month', data=netflix, palette='vlag', ax=ax[1])\n",
    "ax[1].set_title('Month added movie',\n",
    "            fontdict={'fontsize':15})\n",
    "\n",
    "# Day\n",
    "sns.countplot('Day', data=netflix, palette='vlag', ax=ax[2])\n",
    "ax[2].set_title('Day added movie',\n",
    "            fontdict={'fontsize':15})\n",
    "\n",
    "plt.show()"
   ]
  },
  {
   "cell_type": "markdown",
   "id": "88465cd9",
   "metadata": {},
   "source": [
    "- Year : 2015년과 2020년에 평균흐름보다 3배 가량의 컨텐츠 추가량이 보여진다\n",
    "- Month : 년초보단 하반기로 갈수록 점진적으로 많이 늘리는 흐름을 보이고, 4월은 다른달보다 컨텐츠 추가가 월등하게 높다\n",
    "- Day : 흐름을 고르게 보이고 있으나,1일과 14 일은 다른 날보다 많은 컨텐츠를 추가했다"
   ]
  },
  {
   "cell_type": "markdown",
   "id": "51bddb9b",
   "metadata": {
    "ExecuteTime": {
     "end_time": "2021-07-11T09:18:57.005123Z",
     "start_time": "2021-07-11T09:18:56.997136Z"
    }
   },
   "source": [
    "#### 년, 월, 일 별 컨텐츠 추가날짜를 통한 Viewpoint 분석"
   ]
  },
  {
   "cell_type": "code",
   "execution_count": 19,
   "id": "85585f80",
   "metadata": {
    "ExecuteTime": {
     "end_time": "2021-07-11T07:51:00.505921Z",
     "start_time": "2021-07-11T07:50:49.600600Z"
    }
   },
   "outputs": [
    {
     "data": {
      "image/png": "[encoded data removed]",
      "text/plain": [
       "<Figure size 1080x360 with 4 Axes>"
      ]
     },
     "metadata": {},
     "output_type": "display_data"
    }
   ],
   "source": [
    "fig, ax = plt.subplots(2,2, figsize=(15,5))\n",
    "\n",
    "sns.lineplot(x='Year', y=netflix_df['Value'], data=netflix_df, ax=ax[0,0], alpha=0.7)\n",
    "sns.lineplot(x='Month', y=netflix_df['Value'], data=netflix_df, ax=ax[0,1], alpha=0.7)\n",
    "sns.lineplot(x='Day', y=netflix_df['Value'], data=netflix_df, ax=ax[1,0], alpha=0.7)\n",
    "sns.lineplot(x='Netflix_date', y=netflix_df['Value'], data=netflix_df, ax=ax[1,1], alpha=0.7)\n",
    "\n",
    "plt.show()"
   ]
  },
  {
   "cell_type": "code",
   "execution_count": 57,
   "id": "ee9a9ac2",
   "metadata": {
    "ExecuteTime": {
     "end_time": "2021-07-11T09:31:28.791573Z",
     "start_time": "2021-07-11T09:31:28.779605Z"
    }
   },
   "outputs": [
    {
     "data": {
      "text/html": [
       "<div>\n",
       "<style scoped>\n",
       "    .dataframe tbody tr th:only-of-type {\n",
       "        vertical-align: middle;\n",
       "    }\n",
       "\n",
       "    .dataframe tbody tr th {\n",
       "        vertical-align: top;\n",
       "    }\n",
       "\n",
       "    .dataframe thead th {\n",
       "        text-align: right;\n",
       "    }\n",
       "</style>\n",
       "<table border=\"1\" class=\"dataframe\">\n",
       "  <thead>\n",
       "    <tr style=\"text-align: right;\">\n",
       "      <th></th>\n",
       "      <th>Value</th>\n",
       "      <th>Year</th>\n",
       "      <th>Month</th>\n",
       "      <th>Day</th>\n",
       "    </tr>\n",
       "  </thead>\n",
       "  <tbody>\n",
       "    <tr>\n",
       "      <th>Value</th>\n",
       "      <td>1.000000</td>\n",
       "      <td>0.110347</td>\n",
       "      <td>0.045801</td>\n",
       "      <td>0.013298</td>\n",
       "    </tr>\n",
       "    <tr>\n",
       "      <th>Year</th>\n",
       "      <td>0.110347</td>\n",
       "      <td>1.000000</td>\n",
       "      <td>0.330482</td>\n",
       "      <td>0.063851</td>\n",
       "    </tr>\n",
       "    <tr>\n",
       "      <th>Month</th>\n",
       "      <td>0.045801</td>\n",
       "      <td>0.330482</td>\n",
       "      <td>1.000000</td>\n",
       "      <td>0.008355</td>\n",
       "    </tr>\n",
       "    <tr>\n",
       "      <th>Day</th>\n",
       "      <td>0.013298</td>\n",
       "      <td>0.063851</td>\n",
       "      <td>0.008355</td>\n",
       "      <td>1.000000</td>\n",
       "    </tr>\n",
       "  </tbody>\n",
       "</table>\n",
       "</div>"
      ],
      "text/plain": [
       "          Value      Year     Month       Day\n",
       "Value  1.000000  0.110347  0.045801  0.013298\n",
       "Year   0.110347  1.000000  0.330482  0.063851\n",
       "Month  0.045801  0.330482  1.000000  0.008355\n",
       "Day    0.013298  0.063851  0.008355  1.000000"
      ]
     },
     "execution_count": 57,
     "metadata": {},
     "output_type": "execute_result"
    }
   ],
   "source": [
    "netflix.corr()"
   ]
  },
  {
   "cell_type": "markdown",
   "id": "c7adf704",
   "metadata": {},
   "source": [
    "- Year : 2020년에 추가된 컨텐츠와 2017년에 추가된 컨텐츠가 다른 년도에 추가된 컨텐츠보다 viewpoint 가 월등히 높음을 확인할 수 있다. 그럼 20년과 17년에 컨텐츠를 많이 출시 했을지 앞의 년도별 컨텐츠 추가량 그래프를 확인한 결과 20년은 굉장히 많은 컨텐츠를 출시 했지만 17년의 출시한 컨텐츠의 양은 평균 이하수준으로 확인된다\n",
    "\n",
    "- month : 10월과 7월에 추가한 컨텐츠가 다른 월에 출시한 컨텐츠보다 viewpoint 가 높음을 확인할 수 있다. 그럼 10월과 7월에 컨텐츠를 과도하게 많이 출시한건 아닐까? 앞서 분석한 월별 컨텐츠 추가량 그래프를 확인해보면 10월과 7월은 그다지 많이 출시하지 않았다. \n",
    "\n",
    "- Day : 매월 23-24일 사이에 출시된 컨텐츠의 viewpoint가 다른 일에 출시한 viewpoint 보다 월등히 높다. 앞서 day별 추가된 컨텐츠 량을 확인해 보면 1일과 14일에 추가된 컨텐츠의 양이 굉장히 높은걸로 확인된다.\n",
    "\n",
    "- 총평 : 컨텐츠가 언제 출시일정과 viewpoint의 상관관계는 거의 없다고 예상된다"
   ]
  },
  {
   "cell_type": "code",
   "execution_count": null,
   "id": "5152f5be",
   "metadata": {},
   "outputs": [],
   "source": []
  }
 ],
 "metadata": {
  "hide_input": false,
  "kernelspec": {
   "display_name": "Python 3",
   "language": "python",
   "name": "python3"
  },
  "language_info": {
   "codemirror_mode": {
    "name": "ipython",
    "version": 3
   },
   "file_extension": ".py",
   "mimetype": "text/x-python",
   "name": "python",
   "nbconvert_exporter": "python",
   "pygments_lexer": "ipython3",
   "version": "3.8.8"
  },
  "toc": {
   "base_numbering": 1,
   "nav_menu": {},
   "number_sections": true,
   "sideBar": true,
   "skip_h1_title": false,
   "title_cell": "Table of Contents",
   "title_sidebar": "Contents",
   "toc_cell": false,
   "toc_position": {},
   "toc_section_display": true,
   "toc_window_display": false
  },
  "varInspector": {
   "cols": {
    "lenName": 16,
    "lenType": 16,
    "lenVar": 40
   },
   "kernels_config": {
    "python": {
     "delete_cmd_postfix": "",
     "delete_cmd_prefix": "del ",
     "library": "var_list.py",
     "varRefreshCmd": "print(var_dic_list())"
    },
    "r": {
     "delete_cmd_postfix": ") ",
     "delete_cmd_prefix": "rm(",
     "library": "var_list.r",
     "varRefreshCmd": "cat(var_dic_list()) "
    }
   },
   "types_to_exclude": [
    "module",
    "function",
    "builtin_function_or_method",
    "instance",
    "_Feature"
   ],
   "window_display": false
  }
 },
 "nbformat": 4,
 "nbformat_minor": 5
}
